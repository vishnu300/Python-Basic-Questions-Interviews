{
 "cells": [
  {
   "cell_type": "code",
   "execution_count": null,
   "id": "950b212b",
   "metadata": {},
   "outputs": [],
   "source": [
    "import turtle\n",
    "\n",
    "# Create a turtle screen\n",
    "screen = turtle.Screen()\n",
    "screen.bgcolor(\"white\")\n",
    "\n",
    "# Create a turtle object\n",
    "t = turtle.Turtle()\n",
    "t.speed(0)\n",
    "\n",
    "# Set the pen size, color, and radius\n",
    "t.pensize(2)\n",
    "colors = ['red', 'yellow', 'orange', 'green']\n",
    "radius = 50\n",
    "\n",
    "# Draw the petals\n",
    "for i in range(36):\n",
    "    t.color(colors[i%len(colors)])\n",
    "    t.circle(radius)\n",
    "    t.left(10)\n",
    "\n",
    "# Keep the turtle window open\n",
    "turtle.done()"
   ]
  },
  {
   "cell_type": "code",
   "execution_count": 25,
   "id": "e3811d35",
   "metadata": {},
   "outputs": [
    {
     "name": "stdout",
     "output_type": "stream",
     "text": [
      "101\n",
      "yes\n"
     ]
    }
   ],
   "source": [
    "a = int(input())\n",
    "if (a == 1):\n",
    "    print('not')\n",
    "elif (a%2==1):\n",
    "     print(\"yes\")\n",
    "else:\n",
    "    print('notinclude') "
   ]
  },
  {
   "cell_type": "code",
   "execution_count": 1,
   "id": "0278085c",
   "metadata": {},
   "outputs": [],
   "source": [
    "a=[1,2,3,4,5,6,7.8]\n",
    "for i in a:\n",
    "    pass"
   ]
  },
  {
   "cell_type": "code",
   "execution_count": 53,
   "id": "4520ef6f",
   "metadata": {},
   "outputs": [
    {
     "name": "stdout",
     "output_type": "stream",
     "text": [
      "3,5,7,9,11,13.8,"
     ]
    }
   ],
   "source": [
    "def add_two(lis):\n",
    "    size = len(lis)\n",
    "\n",
    "    for i in range(size-1):\n",
    "        list_nu=lis[i] + lis[i+1]\n",
    "        print(list_nu,end=',')\n",
    "lis=[1,2,3,4,5,6,7.8]\n",
    "a=add_two(lis)"
   ]
  },
  {
   "cell_type": "code",
   "execution_count": 57,
   "id": "284d4094",
   "metadata": {},
   "outputs": [
    {
     "name": "stdout",
     "output_type": "stream",
     "text": [
      "\n",
      "@ \n",
      "@ @ \n",
      "@ @ @ \n"
     ]
    }
   ],
   "source": [
    "def trinagle():\n",
    "    inp = 4\n",
    "    for i in range(0,4):\n",
    "        for j in range(0,i):\n",
    "            print('@',end=' ')\n",
    "        print()\n",
    "trinagle()"
   ]
  },
  {
   "cell_type": "code",
   "execution_count": 68,
   "id": "fa694ac4",
   "metadata": {},
   "outputs": [
    {
     "name": "stdout",
     "output_type": "stream",
     "text": [
      "*\n",
      "\n",
      "\n",
      "\n",
      "\n",
      "\n",
      "*\n",
      "\n",
      "*\n",
      "\n",
      "\n",
      "\n",
      "*\n",
      "\n",
      "\n",
      "\n",
      "*\n",
      "\n",
      "*\n",
      "\n",
      "\n",
      "\n",
      "\n",
      "\n",
      "*\n",
      "\n",
      "\n",
      "\n"
     ]
    }
   ],
   "source": [
    "i=0\n",
    "j=6\n",
    "for row in range(4):\n",
    "    for col in range(7):\n",
    "        if row==col:\n",
    "            print('*',end=\"\")\n",
    "        elif row ==i and col==j:\n",
    "            print('*',end=\"\")\n",
    "            i=i+1\n",
    "            j=j-1\n",
    "        else:\n",
    "            print(end=\"\")\n",
    "        print()\n",
    "        "
   ]
  },
  {
   "cell_type": "code",
   "execution_count": 1,
   "id": "48654ccb",
   "metadata": {},
   "outputs": [
    {
     "name": "stdout",
     "output_type": "stream",
     "text": [
      "3\n",
      "3\n",
      "3\n",
      "3\n"
     ]
    }
   ],
   "source": [
    "\n",
    "lis_row = [1,2,4,5]\n",
    "\n",
    "for i in range(1,4):\n",
    "    for j in range(1,6):\n",
    "        if i==1 and j==3:\n",
    "            print('3')\n",
    "        elif i==2 and j==2:\n",
    "            print('3')\n",
    "        elif i==2 and j==4:\n",
    "            print('3')\n",
    "            \n",
    "        elif i==3 and j==1:\n",
    "            print('3')\n",
    "\n"
   ]
  },
  {
   "cell_type": "code",
   "execution_count": 22,
   "id": "6ec002e8",
   "metadata": {},
   "outputs": [
    {
     "name": "stdout",
     "output_type": "stream",
     "text": [
      " * \n",
      "* *\n",
      "***\n",
      "* *\n"
     ]
    }
   ],
   "source": [
    "# print A\n",
    "\n",
    "for r in range(4):\n",
    "    for c in range(3):\n",
    "        if ((c==0 or c==2) and r!=0) or ((r==0 or r==2) and (c>0 and c<2)) :\n",
    "            print('*',end=\"\")\n",
    "        else:\n",
    "            print(end=\" \")\n",
    "    print()"
   ]
  },
  {
   "cell_type": "code",
   "execution_count": 23,
   "id": "1354f6c8",
   "metadata": {},
   "outputs": [
    {
     "name": "stdout",
     "output_type": "stream",
     "text": [
      " * \n",
      "** \n",
      " * \n",
      " * \n"
     ]
    }
   ],
   "source": [
    "for r in range(1,5):\n",
    "    for c in range(1,4):\n",
    "        if ((c==0 or c==2) and r!=0) or ((r==0 or r==2) and (c>0 and c<2)) :\n",
    "            print('*',end=\"\")\n",
    "        else:\n",
    "            print(end=\" \")\n",
    "    print()"
   ]
  },
  {
   "cell_type": "code",
   "execution_count": 66,
   "id": "157177d6",
   "metadata": {},
   "outputs": [
    {
     "name": "stdout",
     "output_type": "stream",
     "text": [
      "  1 2 3 4 5 6 7 8   \n",
      "0                 9 \n",
      "0 1 2 3 4 5 6 7 8 9 \n",
      "0                 9 \n",
      "  1 2 3 4 5 6 7 8   \n"
     ]
    }
   ],
   "source": [
    "for r in range(5):\n",
    "    for c in range(10):\n",
    "        if ((c==0 or c==9 )and r!=0 and r!=4 ) or ((r==0 or r==2 or r==4 ) and (c>0 and c<9)) :\n",
    "            print(c,end=\" \")\n",
    "        else:\n",
    "            print(end=\"  \")\n",
    "    print()"
   ]
  },
  {
   "cell_type": "code",
   "execution_count": 3,
   "id": "ddd5b1c5",
   "metadata": {},
   "outputs": [
    {
     "name": "stdout",
     "output_type": "stream",
     "text": [
      "  000\n",
      "        \n",
      "        \n",
      "        \n",
      "  444\n"
     ]
    }
   ],
   "source": [
    "for row in range (5):\n",
    "    for col in range(4):\n",
    "        if (col==0 and row!=0 and row!=4) or (row==0 or row==4) and (col>0 and col<4):\n",
    "            print(row, end=\"\")\n",
    "        else:\n",
    "            print(end=\"  \")\n",
    "    print()"
   ]
  },
  {
   "cell_type": "code",
   "execution_count": 35,
   "id": "ee13621c",
   "metadata": {},
   "outputs": [
    {
     "name": "stdout",
     "output_type": "stream",
     "text": [
      " * \n",
      " * \n",
      " * \n",
      " * \n"
     ]
    }
   ],
   "source": [
    "for r in range(1,5):\n",
    "    for c in range(1,4):\n",
    "        if c ==1:\n",
    "            print(end=' ')\n",
    "        elif c==3:\n",
    "            print(end=' ')\n",
    "        elif c==2:\n",
    "            print(\"*\",end=\"\")\n",
    "    print()"
   ]
  },
  {
   "cell_type": "code",
   "execution_count": 4,
   "id": "4a667c31",
   "metadata": {},
   "outputs": [
    {
     "name": "stdout",
     "output_type": "stream",
     "text": [
      "     \n",
      "     \n",
      "     \n"
     ]
    }
   ],
   "source": [
    "for ro in range(3):\n",
    "    for co in range(5):\n",
    "        if ((co==0 or co==2 or co ==4 ) and (ro!=0 and ro!=1 and ro!=2)) or ((ro==0 and ro==1 and ro==1 ) and (co>0 and co<4)):\n",
    "            print(\"*\", end=\"\")\n",
    "        else:\n",
    "            print(end=\" \")\n",
    "    print()\n",
    "            "
   ]
  },
  {
   "cell_type": "code",
   "execution_count": 94,
   "id": "671e2a1a",
   "metadata": {},
   "outputs": [
    {
     "name": "stdout",
     "output_type": "stream",
     "text": [
      "* * * * * \n",
      "* * * * \n",
      "* * * \n",
      "* * \n",
      "* \n"
     ]
    }
   ],
   "source": [
    "for ro in range(5,0,-1):\n",
    "    for co in range(ro):\n",
    "        print(\"*\",end=\" \")\n",
    "    print()\n"
   ]
  },
  {
   "cell_type": "code",
   "execution_count": 106,
   "id": "5903385d",
   "metadata": {},
   "outputs": [
    {
     "name": "stdout",
     "output_type": "stream",
     "text": [
      "    * \n",
      "   * * \n",
      "  * * * \n",
      " * * * * \n",
      "* * * * * \n"
     ]
    }
   ],
   "source": [
    "\n",
    "n=5\n",
    "for i in range(n):\n",
    "    for j in range(n-i-1):\n",
    "        print(\" \",end=\"\")\n",
    "    for f in range(i+1):\n",
    "        print(\"*\",end=\" \")\n",
    "    print()"
   ]
  },
  {
   "cell_type": "code",
   "execution_count": 24,
   "id": "bcae92b3",
   "metadata": {},
   "outputs": [
    {
     "name": "stdout",
     "output_type": "stream",
     "text": [
      "* * * * * * * \n",
      " * * * * * * \n",
      "  * * * * * \n",
      "   * * * * \n",
      "    * * * \n",
      "     * * \n",
      "      * \n"
     ]
    }
   ],
   "source": [
    "n=6\n",
    "for i in range(n,-1,-1):\n",
    "    for j in range(n-i):\n",
    "        print(\" \",end=\"\")\n",
    "    for f in range(i+1):\n",
    "        print(\"*\",end=\" \")\n",
    "    print()"
   ]
  },
  {
   "cell_type": "code",
   "execution_count": 21,
   "id": "8cef1d6d",
   "metadata": {},
   "outputs": [
    {
     "name": "stdout",
     "output_type": "stream",
     "text": [
      " * \n",
      "* *\n",
      " * \n",
      "* *\n"
     ]
    }
   ],
   "source": [
    "for r12 in range(4):\n",
    "    for c12 in range(3):\n",
    "        if (((c12==0 or c12==2) and r12!=0 and r12!=2) or (r12==0 or r12==2) and (c12>0 and c12<2)):\n",
    "            print(\"*\",end=\"\")\n",
    "        else:\n",
    "            print(end=\" \")\n",
    "    print()"
   ]
  },
  {
   "cell_type": "code",
   "execution_count": 36,
   "id": "96c44968",
   "metadata": {},
   "outputs": [
    {
     "name": "stdout",
     "output_type": "stream",
     "text": [
      "['hi', 'ram,', 'how', 'are', 'you!']\n"
     ]
    }
   ],
   "source": [
    "sentence = 'hi ram, how are you!'\n",
    "str_1 =\"\"\n",
    "split =sentence.split()\n",
    "print(split)\n",
    "\n",
    "\n"
   ]
  },
  {
   "cell_type": "code",
   "execution_count": 47,
   "id": "0a389990",
   "metadata": {},
   "outputs": [
    {
     "name": "stdout",
     "output_type": "stream",
     "text": [
      "1\n",
      "\n",
      "2\n",
      "2\n",
      "\n",
      "3\n",
      "3\n",
      "3\n",
      "\n",
      "4\n",
      "4\n",
      "4\n",
      "4\n",
      "\n",
      "5\n",
      "5\n",
      "5\n",
      "5\n",
      "5\n",
      "\n"
     ]
    }
   ],
   "source": [
    "n=5\n",
    "for i in range(n):\n",
    "    for j in range(n-i-1):\n",
    "        print(end=\"\")\n",
    "    for f in range(i+1):\n",
    "        print(i+1)\n",
    "    print()"
   ]
  },
  {
   "cell_type": "code",
   "execution_count": null,
   "id": "ec1679c9",
   "metadata": {},
   "outputs": [],
   "source": [
    "#max number\n",
    "w=[]\n",
    "def max_number():\n",
    "    a = [1,23,45,67,3,200,890]\n",
    "    n= len(a)   \n",
    "    for i in range(n):\n",
    "        max_m= a[0]\n",
    "        if (max_m < a[i]):\n",
    "            max_m=a[i]\n",
    "            w.append(a[i])         \n",
    "    w.remove(max_m)    \n",
    "    print(f'max number in the list :: {max_m}')\n",
    "    print(f'remove max number in the list :: {s}')    \n",
    "\n",
    "max_number()\n",
    "\n",
    "\n",
    "print(type(w))\n",
    "def sec_lar():\n",
    "    n= len(w)   \n",
    "    for i in range(n):\n",
    "        max_1= w[0]\n",
    "        if (max_1 < w[i]):\n",
    "            max_1=w[i]\n",
    "    print(max_1)\n",
    "sec_lar()\n"
   ]
  },
  {
   "cell_type": "code",
   "execution_count": null,
   "id": "0acbc36a",
   "metadata": {},
   "outputs": [],
   "source": [
    "def max_number():\n",
    "    a = [1,23,45,67,3,2]\n",
    "    n= len(a)   \n",
    "    for i in range(n):\n",
    "        max_m= a[0]\n",
    "        if (max_m < a[i]):\n",
    "            max_m=a[i]\n",
    "    return(max_m)\n",
    "max_number() "
   ]
  }
 ],
 "metadata": {
  "kernelspec": {
   "display_name": "Python 3 (ipykernel)",
   "language": "python",
   "name": "python3"
  },
  "language_info": {
   "codemirror_mode": {
    "name": "ipython",
    "version": 3
   },
   "file_extension": ".py",
   "mimetype": "text/x-python",
   "name": "python",
   "nbconvert_exporter": "python",
   "pygments_lexer": "ipython3",
   "version": "3.12.1"
  }
 },
 "nbformat": 4,
 "nbformat_minor": 5
}
