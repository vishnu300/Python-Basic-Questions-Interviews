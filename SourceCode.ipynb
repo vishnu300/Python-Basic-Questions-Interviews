{
 "cells": [
  {
   "cell_type": "code",
   "execution_count": 3,
   "id": "f6996154",
   "metadata": {},
   "outputs": [
    {
     "name": "stdout",
     "output_type": "stream",
     "text": [
      "Enter the number of inputs: 1\n",
      "Enter the name for input : qq\n",
      "Enter the age group for input : 123\n",
      "   Number of Input Name Age Group\n",
      "0                1   qq       123\n"
     ]
    }
   ],
   "source": [
    "import pandas as pd\n",
    "\n",
    "# Input data\n",
    "num_inputs = int(input(\"Enter the number of inputs: \"))\n",
    "\n",
    "data = {\n",
    "    'Number of Input': [],\n",
    "    'Name': [],\n",
    "    'Age Group': []\n",
    "}\n",
    "\n",
    "for i in range(num_inputs):\n",
    "    name = input(f\"Enter the name for input : \")\n",
    "    age_group = input(f\"Enter the age group for input : \")\n",
    "    data['Number of Input'].append(num_inputs)\n",
    "    data['Name'].append(name)\n",
    "    data['Age Group'].append(age_group)\n",
    "\n",
    "# Create DataFrame\n",
    "df = pd.DataFrame(data)\n",
    "\n",
    "print(df)\n"
   ]
  },
  {
   "cell_type": "code",
   "execution_count": null,
   "id": "99c13f6f",
   "metadata": {},
   "outputs": [],
   "source": []
  }
 ],
 "metadata": {
  "kernelspec": {
   "display_name": "Python 3 (ipykernel)",
   "language": "python",
   "name": "python3"
  },
  "language_info": {
   "codemirror_mode": {
    "name": "ipython",
    "version": 3
   },
   "file_extension": ".py",
   "mimetype": "text/x-python",
   "name": "python",
   "nbconvert_exporter": "python",
   "pygments_lexer": "ipython3",
   "version": "3.11.5"
  }
 },
 "nbformat": 4,
 "nbformat_minor": 5
}
